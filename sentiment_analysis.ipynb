{
 "cells": [
  {
   "cell_type": "code",
   "execution_count": 6,
   "metadata": {},
   "outputs": [],
   "source": [
    "#importing the libraries\n",
    "import pandas as pd\n",
    "import seaborn as sns\n",
    "import matplotlib.pyplot as plt\n",
    "import numpy as np\n",
    "import warnings\n",
    "warnings.filterwarnings('ignore')\n",
    "\n",
    "import re\n",
    "from textblob import TextBlob\n",
    "from wordcloud import WordCloud"
   ]
  },
  {
   "cell_type": "code",
   "execution_count": 2,
   "metadata": {},
   "outputs": [
    {
     "data": {
      "text/html": [
       "<div>\n",
       "<style scoped>\n",
       "    .dataframe tbody tr th:only-of-type {\n",
       "        vertical-align: middle;\n",
       "    }\n",
       "\n",
       "    .dataframe tbody tr th {\n",
       "        vertical-align: top;\n",
       "    }\n",
       "\n",
       "    .dataframe thead th {\n",
       "        text-align: right;\n",
       "    }\n",
       "</style>\n",
       "<table border=\"1\" class=\"dataframe\">\n",
       "  <thead>\n",
       "    <tr style=\"text-align: right;\">\n",
       "      <th></th>\n",
       "      <th>Unnamed: 0</th>\n",
       "      <th>Date</th>\n",
       "      <th>User</th>\n",
       "      <th>Tweet</th>\n",
       "      <th>company</th>\n",
       "      <th>Stock_status</th>\n",
       "    </tr>\n",
       "  </thead>\n",
       "  <tbody>\n",
       "    <tr>\n",
       "      <th>0</th>\n",
       "      <td>0</td>\n",
       "      <td>2022-06-14 09:17:08+00:00</td>\n",
       "      <td>tradingqna</td>\n",
       "      <td>The rights issue of Davangere Sugar Company op...</td>\n",
       "      <td>davangere sugar company</td>\n",
       "      <td>1</td>\n",
       "    </tr>\n",
       "    <tr>\n",
       "      <th>1</th>\n",
       "      <td>1</td>\n",
       "      <td>2022-07-09 09:49:07+00:00</td>\n",
       "      <td>santhos89105482</td>\n",
       "      <td>@aswathiguna @mrpandya007 Hi Ashwathi ,can yu ...</td>\n",
       "      <td>xchanging solutions</td>\n",
       "      <td>1</td>\n",
       "    </tr>\n",
       "    <tr>\n",
       "      <th>2</th>\n",
       "      <td>2</td>\n",
       "      <td>2022-07-07 13:10:22+00:00</td>\n",
       "      <td>prasim_swaroop</td>\n",
       "      <td>@Atulsingh_asan Asking u sir 10th time. Please...</td>\n",
       "      <td>xchanging solutions</td>\n",
       "      <td>1</td>\n",
       "    </tr>\n",
       "    <tr>\n",
       "      <th>3</th>\n",
       "      <td>3</td>\n",
       "      <td>2022-06-30 14:13:54+00:00</td>\n",
       "      <td>Muhamma43728664</td>\n",
       "      <td>@scout_stock Xchanging solutions</td>\n",
       "      <td>xchanging solutions</td>\n",
       "      <td>1</td>\n",
       "    </tr>\n",
       "    <tr>\n",
       "      <th>4</th>\n",
       "      <td>4</td>\n",
       "      <td>2022-06-28 05:05:09+00:00</td>\n",
       "      <td>rankajrankaj</td>\n",
       "      <td>Xchanging Solutions Limited - Closure of tradi...</td>\n",
       "      <td>xchanging solutions</td>\n",
       "      <td>1</td>\n",
       "    </tr>\n",
       "  </tbody>\n",
       "</table>\n",
       "</div>"
      ],
      "text/plain": [
       "   Unnamed: 0                       Date             User  \\\n",
       "0           0  2022-06-14 09:17:08+00:00       tradingqna   \n",
       "1           1  2022-07-09 09:49:07+00:00  santhos89105482   \n",
       "2           2  2022-07-07 13:10:22+00:00   prasim_swaroop   \n",
       "3           3  2022-06-30 14:13:54+00:00  Muhamma43728664   \n",
       "4           4  2022-06-28 05:05:09+00:00     rankajrankaj   \n",
       "\n",
       "                                               Tweet                  company  \\\n",
       "0  The rights issue of Davangere Sugar Company op...  davangere sugar company   \n",
       "1  @aswathiguna @mrpandya007 Hi Ashwathi ,can yu ...      xchanging solutions   \n",
       "2  @Atulsingh_asan Asking u sir 10th time. Please...      xchanging solutions   \n",
       "3                   @scout_stock Xchanging solutions      xchanging solutions   \n",
       "4  Xchanging Solutions Limited - Closure of tradi...      xchanging solutions   \n",
       "\n",
       "   Stock_status  \n",
       "0             1  \n",
       "1             1  \n",
       "2             1  \n",
       "3             1  \n",
       "4             1  "
      ]
     },
     "execution_count": 2,
     "metadata": {},
     "output_type": "execute_result"
    }
   ],
   "source": [
    "#reading the data\n",
    "df=pd.read_csv('Stocks_twitter.csv')\n",
    "df.head()"
   ]
  },
  {
   "cell_type": "code",
   "execution_count": 3,
   "metadata": {},
   "outputs": [
    {
     "data": {
      "text/plain": [
       "(18346, 6)"
      ]
     },
     "execution_count": 3,
     "metadata": {},
     "output_type": "execute_result"
    }
   ],
   "source": [
    "#checking the shape\n",
    "df.shape"
   ]
  },
  {
   "cell_type": "code",
   "execution_count": 4,
   "metadata": {},
   "outputs": [
    {
     "data": {
      "text/plain": [
       "0        The rights issue of Davangere Sugar Company op...\n",
       "1        @aswathiguna @mrpandya007 Hi Ashwathi ,can yu ...\n",
       "2        @Atulsingh_asan Asking u sir 10th time. Please...\n",
       "3                         @scout_stock Xchanging solutions\n",
       "4        Xchanging Solutions Limited - Closure of tradi...\n",
       "                               ...                        \n",
       "18341    i can’t wait to get my furniture next week 🥹 h...\n",
       "18342    50 years ago today CORT got its start, and 50 ...\n",
       "18343    @TheRealMrsSpit Matching, new, non clearance f...\n",
       "18344    We are excited to share another milestone with...\n",
       "18345    New parenting milestone today! Figuring out wh...\n",
       "Name: Tweet, Length: 18346, dtype: object"
      ]
     },
     "execution_count": 4,
     "metadata": {},
     "output_type": "execute_result"
    }
   ],
   "source": [
    "df['Tweet']"
   ]
  },
  {
   "cell_type": "code",
   "execution_count": 11,
   "metadata": {},
   "outputs": [],
   "source": [
    "#cleaning tweets\n",
    "def cleantxt(text):\n",
    "    text=re.sub(r'@[a-zA-Z0-9]+','',text)#mentions\n",
    "    text=re.sub(r'#','',text) #hash tags\n",
    "    text=re.sub(r'RT[\\s]+','',text) #retweets\n",
    "    text=re.sub(r'https?:\\/\\/s+','',text)#hyperlinks\n",
    "    return text\n",
    "\n"
   ]
  },
  {
   "cell_type": "code",
   "execution_count": 12,
   "metadata": {},
   "outputs": [],
   "source": [
    "#applying re on tweets\n",
    "\n",
    "df['Tweet']=df['Tweet'].apply(cleantxt)"
   ]
  },
  {
   "cell_type": "code",
   "execution_count": 13,
   "metadata": {},
   "outputs": [
    {
     "data": {
      "text/plain": [
       "0        The rights issue of Davangere Sugar Company op...\n",
       "1          Hi Ashwathi ,can yu tell on India bulls hous...\n",
       "2        _asan Asking u sir 10th time. Please reply.  H...\n",
       "3                               _stock Xchanging solutions\n",
       "4        Xchanging Solutions Limited - Closure of tradi...\n",
       "                               ...                        \n",
       "18341    i can’t wait to get my furniture next week 🥹 h...\n",
       "18342    50 years ago today COgot its start, and 50 yea...\n",
       "18343     Matching, new, non clearance furniture? Girl,...\n",
       "18344    We are excited to share another milestone with...\n",
       "18345    New parenting milestone today! Figuring out wh...\n",
       "Name: Tweet, Length: 18346, dtype: object"
      ]
     },
     "execution_count": 13,
     "metadata": {},
     "output_type": "execute_result"
    }
   ],
   "source": [
    "df['Tweet'] #cleaned text"
   ]
  },
  {
   "cell_type": "code",
   "execution_count": null,
   "metadata": {},
   "outputs": [],
   "source": [
    "#getting subjectivity and polarity"
   ]
  },
  {
   "cell_type": "code",
   "execution_count": null,
   "metadata": {},
   "outputs": [],
   "source": []
  },
  {
   "cell_type": "code",
   "execution_count": null,
   "metadata": {},
   "outputs": [],
   "source": []
  }
 ],
 "metadata": {
  "kernelspec": {
   "display_name": "Python 3.9.12 ('base')",
   "language": "python",
   "name": "python3"
  },
  "language_info": {
   "codemirror_mode": {
    "name": "ipython",
    "version": 3
   },
   "file_extension": ".py",
   "mimetype": "text/x-python",
   "name": "python",
   "nbconvert_exporter": "python",
   "pygments_lexer": "ipython3",
   "version": "3.9.12"
  },
  "orig_nbformat": 4,
  "vscode": {
   "interpreter": {
    "hash": "789fb34462f482e38fdbd0940fbb6e5b0fbd4a5284d680984504ae0721c812bc"
   }
  }
 },
 "nbformat": 4,
 "nbformat_minor": 2
}
