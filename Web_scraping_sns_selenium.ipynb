{
 "cells": [
  {
   "cell_type": "code",
   "execution_count": 1,
   "metadata": {},
   "outputs": [],
   "source": [
    "#Web scraping names and details of stocks with max Gain and Loss using selenium webdriver"
   ]
  },
  {
   "cell_type": "code",
   "execution_count": 2,
   "metadata": {},
   "outputs": [],
   "source": [
    "#Libraries for webscraping\n",
    "\n",
    "import selenium\n",
    "from selenium import webdriver\n",
    "import pandas as pd\n",
    "from bs4 import BeautifulSoup\n",
    "import requests\n",
    "from selenium.common.exceptions import StaleElementReferenceException, NoSuchElementException\n",
    "import time"
   ]
  },
  {
   "cell_type": "code",
   "execution_count": 3,
   "metadata": {},
   "outputs": [],
   "source": [
    "#setting up browser config for web driver\n",
    "\n",
    "from selenium.webdriver.common.by import By\n",
    "from selenium.webdriver.chrome.options import Options\n",
    "driverPATH =  r'/home/alby/Downloads/chromedriver'\n",
    "browserBIN = '/usr/bin/vivaldi'"
   ]
  },
  {
   "cell_type": "code",
   "execution_count": 4,
   "metadata": {},
   "outputs": [],
   "source": [
    "options = webdriver.ChromeOptions()\n",
    "options.binary_location = browserBIN"
   ]
  },
  {
   "cell_type": "code",
   "execution_count": 5,
   "metadata": {},
   "outputs": [
    {
     "name": "stderr",
     "output_type": "stream",
     "text": [
      "/tmp/ipykernel_33648/2275245732.py:1: DeprecationWarning: executable_path has been deprecated, please pass in a Service object\n",
      "  driver = webdriver.Chrome(driverPATH, options=options)\n"
     ]
    }
   ],
   "source": [
    "driver = webdriver.Chrome(driverPATH, options=options)"
   ]
  },
  {
   "cell_type": "code",
   "execution_count": 6,
   "metadata": {},
   "outputs": [],
   "source": [
    "#accessing url for the site with stock info\n",
    "\n",
    "url=\"https://www.bseindia.com/markets.html\"\n",
    "driver.get(url)\n",
    "time.sleep(5)"
   ]
  },
  {
   "cell_type": "code",
   "execution_count": 7,
   "metadata": {},
   "outputs": [],
   "source": [
    "#accessing the urls of top 10 gainers and losers\n",
    "\n",
    "gain_table=driver.find_elements(By.XPATH,\"//tbody[@class='ng-scope'and @ng-repeat='G in GainersAndLoosers.Table track by G.scrip_cd']\")\n",
    "links_gain=[]\n",
    "for j in gain_table:\n",
    "    time.sleep(2)\n",
    "\n",
    "    link_tag=j.find_element(By.TAG_NAME,\"a\")\n",
    "    links_gain.append(link_tag.get_attribute('href'))\n",
    "\n",
    "#clicking to access the losers column\n",
    "\n",
    "\n",
    "links_loss=[]\n",
    "\n",
    "time.sleep(5)\n",
    "\n",
    "loss=driver.find_element(By.XPATH,'//*[@id=\"idLosers\"]')\n",
    "loss.click()\n",
    "\n",
    "time.sleep(2)\n",
    "\n",
    "loss_table=driver.find_elements(By.XPATH,\"//tbody[@class='ng-scope'and @ng-repeat='L in GainersAndLoosers1.Table track by L.scrip_cd']\")\n",
    "\n",
    "\n",
    "for l in loss_table:\n",
    "\n",
    "    tag=l.find_element(By.TAG_NAME,\"a\")\n",
    "    links_loss.append(tag.get_attribute('href'))\n",
    "\n",
    "\n",
    "\n"
   ]
  },
  {
   "cell_type": "code",
   "execution_count": 8,
   "metadata": {},
   "outputs": [
    {
     "data": {
      "text/plain": [
       "['https://www.bseindia.com/stock-share-price/goel-food-products-ltd/goel/543538/',\n",
       " 'https://www.bseindia.com/stock-share-price/wardwizard-innovations-and-mobility-ltd/wardwizpp/890164/',\n",
       " 'https://www.bseindia.com/stock-share-price/rita-finance-and-leasing-ltd/rfll/543256/',\n",
       " 'https://www.bseindia.com/stock-share-price/vikas-proppant--granite-ltd/vikasprop/531518/',\n",
       " 'https://www.bseindia.com/stock-share-price/aravali-securities--finance-ltd/aravalis/512344/',\n",
       " 'https://www.bseindia.com/stock-share-price/rmc-switchgears-ltd/rmc/540358/',\n",
       " 'https://www.bseindia.com/stock-share-price/eki-energy-services-ltd/eki/543284/',\n",
       " 'https://www.bseindia.com/stock-share-price/arshiya-limited/arshiya/506074/',\n",
       " 'https://www.bseindia.com/stock-share-price/milestone-furniture-ltd/milefur/541337/',\n",
       " 'https://www.bseindia.com/stock-share-price/simplex-mills-company-ltd/simplxmil/533018/']"
      ]
     },
     "execution_count": 8,
     "metadata": {},
     "output_type": "execute_result"
    }
   ],
   "source": [
    "links_loss"
   ]
  },
  {
   "cell_type": "code",
   "execution_count": 9,
   "metadata": {},
   "outputs": [],
   "source": [
    "#getting names of top stocks in gain and loss\n",
    "gain_stocks=[]\n",
    "loss_stocks=[]\n",
    "for name in links_gain:\n",
    "    gain_stocks.append(name.split(\"/\")[4].replace(\"-\",\" \").replace(\"ltd\",\" \"))\n",
    "\n",
    "#loss stocks\n",
    "for names in links_loss:\n",
    "    loss_stocks.append(names.split(\"/\")[4].replace(\"-\",\" \").replace(\"ltd\",\" \"))\n",
    "\n",
    "\n"
   ]
  },
  {
   "cell_type": "code",
   "execution_count": 10,
   "metadata": {},
   "outputs": [
    {
     "data": {
      "text/plain": [
       "(['davangere sugar company  ',\n",
       "  'xchanging solutions  ',\n",
       "  'bgr energy systems  ',\n",
       "  'rajeshwari cans  ',\n",
       "  'gsauto international  ',\n",
       "  'faze three autofab  ',\n",
       "  'cmi  ',\n",
       "  'aki india  ',\n",
       "  'saboo sodium chloro  ',\n",
       "  'iti  '],\n",
       " ['goel food products  ',\n",
       "  'wardwizard innovations and mobility  ',\n",
       "  'rita finance and leasing  ',\n",
       "  'vikas proppant  granite  ',\n",
       "  'aravali securities  finance  ',\n",
       "  'rmc switchgears  ',\n",
       "  'eki energy services  ',\n",
       "  'arshiya limited',\n",
       "  'milestone furniture  ',\n",
       "  'simplex mills company  '])"
      ]
     },
     "execution_count": 10,
     "metadata": {},
     "output_type": "execute_result"
    }
   ],
   "source": [
    "gain_stocks,loss_stocks"
   ]
  },
  {
   "cell_type": "code",
   "execution_count": 11,
   "metadata": {},
   "outputs": [],
   "source": [
    "###Sns scraping-Twitter for tweets on stocks\n",
    "tweets = []\n",
    "ltweets=[]"
   ]
  },
  {
   "cell_type": "code",
   "execution_count": 12,
   "metadata": {},
   "outputs": [
    {
     "name": "stderr",
     "output_type": "stream",
     "text": [
      "/tmp/ipykernel_33648/3599627893.py:13: FutureWarning: username is deprecated, use user.username instead\n",
      "  tweets.append([tweet.date, tweet.username, tweet.content,gainer,1])\n"
     ]
    }
   ],
   "source": [
    "import snscrape.modules.twitter as sntwitter\n",
    "import pandas as pd\n",
    "\n",
    "\n",
    "for gainer in gain_stocks:\n",
    "\n",
    "    query = str(gainer)+ \"lang:en until:2022-07-12 since:2022-06-01\"\n",
    "    \n",
    "    for tweet in sntwitter.TwitterSearchScraper(query).get_items():\n",
    "    \n",
    "    # print(vars(tweet))\n",
    "    # break\n",
    "        tweets.append([tweet.date, tweet.username, tweet.content,gainer,1])"
   ]
  },
  {
   "cell_type": "code",
   "execution_count": 13,
   "metadata": {},
   "outputs": [
    {
     "name": "stderr",
     "output_type": "stream",
     "text": [
      "/tmp/ipykernel_33648/2621660898.py:12: FutureWarning: username is deprecated, use user.username instead\n",
      "  ltweets.append([twee.date, twee.username, twee.content,loser,0])\n"
     ]
    }
   ],
   "source": [
    "#Scraping tweets for bottom ten stocks\n",
    "\n",
    "\n",
    "for loser in loss_stocks:\n",
    "\n",
    "    query = str(loser)+ \"lang:en until:2022-07-12 since:2022-06-01\"\n",
    "\n",
    "    for twee in sntwitter.TwitterSearchScraper(query).get_items():\n",
    "    \n",
    "    # print(vars(tweet))\n",
    "    # break\n",
    "            ltweets.append([twee.date, twee.username, twee.content,loser,0])\n",
    "\n",
    "\n"
   ]
  },
  {
   "cell_type": "code",
   "execution_count": 14,
   "metadata": {},
   "outputs": [
    {
     "data": {
      "text/plain": [
       "18331"
      ]
     },
     "execution_count": 14,
     "metadata": {},
     "output_type": "execute_result"
    }
   ],
   "source": [
    "len(tweets)"
   ]
  },
  {
   "cell_type": "code",
   "execution_count": 15,
   "metadata": {},
   "outputs": [],
   "source": [
    "df1 = pd.DataFrame(tweets, columns=['Date', 'User', 'Tweet','company','Stock_status'])\n",
    "\n",
    "df2 = pd.DataFrame(ltweets, columns=['Date', 'User', 'Tweet','company','Stock_status'])\n"
   ]
  },
  {
   "cell_type": "code",
   "execution_count": 16,
   "metadata": {},
   "outputs": [
    {
     "data": {
      "text/html": [
       "<div>\n",
       "<style scoped>\n",
       "    .dataframe tbody tr th:only-of-type {\n",
       "        vertical-align: middle;\n",
       "    }\n",
       "\n",
       "    .dataframe tbody tr th {\n",
       "        vertical-align: top;\n",
       "    }\n",
       "\n",
       "    .dataframe thead th {\n",
       "        text-align: right;\n",
       "    }\n",
       "</style>\n",
       "<table border=\"1\" class=\"dataframe\">\n",
       "  <thead>\n",
       "    <tr style=\"text-align: right;\">\n",
       "      <th></th>\n",
       "      <th>Date</th>\n",
       "      <th>User</th>\n",
       "      <th>Tweet</th>\n",
       "      <th>company</th>\n",
       "      <th>Stock_status</th>\n",
       "    </tr>\n",
       "  </thead>\n",
       "  <tbody>\n",
       "    <tr>\n",
       "      <th>0</th>\n",
       "      <td>2022-07-04 10:22:32+00:00</td>\n",
       "      <td>JaayShaan</td>\n",
       "      <td>Stocks touching fresh 52WK-H in today's sessio...</td>\n",
       "      <td>goel food products</td>\n",
       "      <td>0</td>\n",
       "    </tr>\n",
       "    <tr>\n",
       "      <th>1</th>\n",
       "      <td>2022-06-28 09:27:03+00:00</td>\n",
       "      <td>VivekIyer72</td>\n",
       "      <td>Goel Food Products Limited becomes the Three H...</td>\n",
       "      <td>goel food products</td>\n",
       "      <td>0</td>\n",
       "    </tr>\n",
       "    <tr>\n",
       "      <th>2</th>\n",
       "      <td>2022-06-28 08:25:31+00:00</td>\n",
       "      <td>satinathpk</td>\n",
       "      <td>Goel Food Products.. https://t.co/6HNQfOB3Yq</td>\n",
       "      <td>goel food products</td>\n",
       "      <td>0</td>\n",
       "    </tr>\n",
       "    <tr>\n",
       "      <th>3</th>\n",
       "      <td>2022-06-28 06:28:33+00:00</td>\n",
       "      <td>DSIJ</td>\n",
       "      <td>Goel Food Products Limited becomes the Three H...</td>\n",
       "      <td>goel food products</td>\n",
       "      <td>0</td>\n",
       "    </tr>\n",
       "    <tr>\n",
       "      <th>4</th>\n",
       "      <td>2022-06-28 05:20:45+00:00</td>\n",
       "      <td>AjayTha26074981</td>\n",
       "      <td>Today 377th SME Goel Food Products LTd got lis...</td>\n",
       "      <td>goel food products</td>\n",
       "      <td>0</td>\n",
       "    </tr>\n",
       "    <tr>\n",
       "      <th>...</th>\n",
       "      <td>...</td>\n",
       "      <td>...</td>\n",
       "      <td>...</td>\n",
       "      <td>...</td>\n",
       "      <td>...</td>\n",
       "    </tr>\n",
       "    <tr>\n",
       "      <th>123</th>\n",
       "      <td>2022-06-06 21:18:51+00:00</td>\n",
       "      <td>kaymtay</td>\n",
       "      <td>i can’t wait to get my furniture next week 🥹 h...</td>\n",
       "      <td>milestone furniture</td>\n",
       "      <td>0</td>\n",
       "    </tr>\n",
       "    <tr>\n",
       "      <th>124</th>\n",
       "      <td>2022-06-06 13:00:11+00:00</td>\n",
       "      <td>CORTFurniture</td>\n",
       "      <td>50 years ago today CORT got its start, and 50 ...</td>\n",
       "      <td>milestone furniture</td>\n",
       "      <td>0</td>\n",
       "    </tr>\n",
       "    <tr>\n",
       "      <th>125</th>\n",
       "      <td>2022-06-06 10:44:24+00:00</td>\n",
       "      <td>EarthMother921</td>\n",
       "      <td>@TheRealMrsSpit Matching, new, non clearance f...</td>\n",
       "      <td>milestone furniture</td>\n",
       "      <td>0</td>\n",
       "    </tr>\n",
       "    <tr>\n",
       "      <th>126</th>\n",
       "      <td>2022-06-04 10:23:34+00:00</td>\n",
       "      <td>amandaamici_</td>\n",
       "      <td>We are excited to share another milestone with...</td>\n",
       "      <td>milestone furniture</td>\n",
       "      <td>0</td>\n",
       "    </tr>\n",
       "    <tr>\n",
       "      <th>127</th>\n",
       "      <td>2022-06-03 00:21:58+00:00</td>\n",
       "      <td>AnnieDrinks</td>\n",
       "      <td>New parenting milestone today! Figuring out wh...</td>\n",
       "      <td>milestone furniture</td>\n",
       "      <td>0</td>\n",
       "    </tr>\n",
       "  </tbody>\n",
       "</table>\n",
       "<p>128 rows × 5 columns</p>\n",
       "</div>"
      ],
      "text/plain": [
       "                         Date             User  \\\n",
       "0   2022-07-04 10:22:32+00:00        JaayShaan   \n",
       "1   2022-06-28 09:27:03+00:00      VivekIyer72   \n",
       "2   2022-06-28 08:25:31+00:00       satinathpk   \n",
       "3   2022-06-28 06:28:33+00:00             DSIJ   \n",
       "4   2022-06-28 05:20:45+00:00  AjayTha26074981   \n",
       "..                        ...              ...   \n",
       "123 2022-06-06 21:18:51+00:00          kaymtay   \n",
       "124 2022-06-06 13:00:11+00:00    CORTFurniture   \n",
       "125 2022-06-06 10:44:24+00:00   EarthMother921   \n",
       "126 2022-06-04 10:23:34+00:00     amandaamici_   \n",
       "127 2022-06-03 00:21:58+00:00      AnnieDrinks   \n",
       "\n",
       "                                                 Tweet                company  \\\n",
       "0    Stocks touching fresh 52WK-H in today's sessio...   goel food products     \n",
       "1    Goel Food Products Limited becomes the Three H...   goel food products     \n",
       "2         Goel Food Products.. https://t.co/6HNQfOB3Yq   goel food products     \n",
       "3    Goel Food Products Limited becomes the Three H...   goel food products     \n",
       "4    Today 377th SME Goel Food Products LTd got lis...   goel food products     \n",
       "..                                                 ...                    ...   \n",
       "123  i can’t wait to get my furniture next week 🥹 h...  milestone furniture     \n",
       "124  50 years ago today CORT got its start, and 50 ...  milestone furniture     \n",
       "125  @TheRealMrsSpit Matching, new, non clearance f...  milestone furniture     \n",
       "126  We are excited to share another milestone with...  milestone furniture     \n",
       "127  New parenting milestone today! Figuring out wh...  milestone furniture     \n",
       "\n",
       "     Stock_status  \n",
       "0               0  \n",
       "1               0  \n",
       "2               0  \n",
       "3               0  \n",
       "4               0  \n",
       "..            ...  \n",
       "123             0  \n",
       "124             0  \n",
       "125             0  \n",
       "126             0  \n",
       "127             0  \n",
       "\n",
       "[128 rows x 5 columns]"
      ]
     },
     "execution_count": 16,
     "metadata": {},
     "output_type": "execute_result"
    }
   ],
   "source": [
    "df2"
   ]
  },
  {
   "cell_type": "code",
   "execution_count": 17,
   "metadata": {},
   "outputs": [
    {
     "data": {
      "text/plain": [
       "array(['davangere sugar company  ', 'xchanging solutions  ',\n",
       "       'bgr energy systems  ', 'faze three autofab  ', 'cmi  ',\n",
       "       'aki india  ', 'saboo sodium chloro  ', 'iti  '], dtype=object)"
      ]
     },
     "execution_count": 17,
     "metadata": {},
     "output_type": "execute_result"
    }
   ],
   "source": [
    "df1['company'].unique()"
   ]
  },
  {
   "cell_type": "code",
   "execution_count": null,
   "metadata": {},
   "outputs": [],
   "source": []
  },
  {
   "cell_type": "code",
   "execution_count": null,
   "metadata": {},
   "outputs": [],
   "source": []
  }
 ],
 "metadata": {
  "kernelspec": {
   "display_name": "Python 3.9.12 ('base')",
   "language": "python",
   "name": "python3"
  },
  "language_info": {
   "codemirror_mode": {
    "name": "ipython",
    "version": 3
   },
   "file_extension": ".py",
   "mimetype": "text/x-python",
   "name": "python",
   "nbconvert_exporter": "python",
   "pygments_lexer": "ipython3",
   "version": "3.9.12"
  },
  "orig_nbformat": 4,
  "vscode": {
   "interpreter": {
    "hash": "789fb34462f482e38fdbd0940fbb6e5b0fbd4a5284d680984504ae0721c812bc"
   }
  }
 },
 "nbformat": 4,
 "nbformat_minor": 2
}
