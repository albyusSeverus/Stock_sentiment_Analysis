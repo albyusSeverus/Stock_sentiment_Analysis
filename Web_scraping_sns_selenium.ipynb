{
 "cells": [
  {
   "cell_type": "code",
   "execution_count": 3,
   "metadata": {},
   "outputs": [],
   "source": [
    "import selenium\n",
    "from selenium import webdriver\n",
    "import pandas as pd\n",
    "from bs4 import BeautifulSoup\n",
    "import requests\n",
    "from selenium.common.exceptions import StaleElementReferenceException, NoSuchElementException\n",
    "import time"
   ]
  },
  {
   "cell_type": "code",
   "execution_count": 4,
   "metadata": {},
   "outputs": [],
   "source": [
    "from selenium.webdriver.common.by import By\n",
    "from selenium.webdriver.chrome.options import Options\n",
    "driverPATH =  r'/home/alby/Downloads/chromedriver'\n",
    "browserBIN = '/usr/bin/vivaldi'"
   ]
  },
  {
   "cell_type": "code",
   "execution_count": 5,
   "metadata": {},
   "outputs": [],
   "source": [
    "options = webdriver.ChromeOptions()\n",
    "options.binary_location = browserBIN"
   ]
  },
  {
   "cell_type": "code",
   "execution_count": 6,
   "metadata": {},
   "outputs": [],
   "source": [
    "driver = webdriver.Chrome(driverPATH, options=options)"
   ]
  },
  {
   "cell_type": "code",
   "execution_count": 91,
   "metadata": {},
   "outputs": [],
   "source": [
    "url=\"https://www.bseindia.com/markets.html\"\n",
    "driver.get(url)"
   ]
  },
  {
   "cell_type": "code",
   "execution_count": 93,
   "metadata": {},
   "outputs": [],
   "source": [
    "gain_table=driver.find_elements(By.XPATH,\"//tbody[@class='ng-scope'and @ng-repeat='G in GainersAndLoosers.Table track by G.scrip_cd']\")\n",
    "links_gain=[]\n",
    "links_loss=[]\n",
    "for j in gain_table:\n",
    "\n",
    "    link_tag=j.find_element(By.TAG_NAME,\"a\")\n",
    "    links_gain.append(link_tag.get_attribute('href'))\n",
    "\n",
    "time.sleep(5)\n",
    "\n",
    "loss=driver.find_element(By.XPATH,'//*[@id=\"idLosers\"]')\n",
    "loss.click()\n",
    "\n",
    "loss_table=driver.find_elements(By.XPATH,\"//tbody[@class='ng-scope'and @ng-repeat='L in GainersAndLoosers1.Table track by L.scrip_cd']\")\n",
    "\n",
    "\n",
    "for l in loss_table:\n",
    "\n",
    "    tag=l.find_element(By.TAG_NAME,\"a\")\n",
    "    links_loss.append(tag.get_attribute('href'))\n"
   ]
  },
  {
   "cell_type": "code",
   "execution_count": 94,
   "metadata": {},
   "outputs": [],
   "source": []
  },
  {
   "cell_type": "code",
   "execution_count": 97,
   "metadata": {},
   "outputs": [],
   "source": []
  },
  {
   "cell_type": "code",
   "execution_count": 98,
   "metadata": {},
   "outputs": [],
   "source": []
  },
  {
   "cell_type": "code",
   "execution_count": 99,
   "metadata": {},
   "outputs": [
    {
     "data": {
      "text/plain": [
       "[<selenium.webdriver.remote.webelement.WebElement (session=\"b0f609b8ce2f60a248aa4f0d6c1297fb\", element=\"472b3243-8eb6-4c24-a9e0-f32a6fff9c20\")>,\n",
       " <selenium.webdriver.remote.webelement.WebElement (session=\"b0f609b8ce2f60a248aa4f0d6c1297fb\", element=\"89fd799f-a96c-4d89-bf7f-18d4a6ced113\")>,\n",
       " <selenium.webdriver.remote.webelement.WebElement (session=\"b0f609b8ce2f60a248aa4f0d6c1297fb\", element=\"b33b6780-8e64-4f41-bc71-856784d3a546\")>,\n",
       " <selenium.webdriver.remote.webelement.WebElement (session=\"b0f609b8ce2f60a248aa4f0d6c1297fb\", element=\"323679e8-3dc5-4709-bd50-11077d48244e\")>,\n",
       " <selenium.webdriver.remote.webelement.WebElement (session=\"b0f609b8ce2f60a248aa4f0d6c1297fb\", element=\"aebf97ef-d81f-42e4-8c66-7a8184074f2a\")>,\n",
       " <selenium.webdriver.remote.webelement.WebElement (session=\"b0f609b8ce2f60a248aa4f0d6c1297fb\", element=\"14d7ccff-588c-472d-9596-6d4dc38ea765\")>,\n",
       " <selenium.webdriver.remote.webelement.WebElement (session=\"b0f609b8ce2f60a248aa4f0d6c1297fb\", element=\"1baeb682-a614-4e38-810d-36706a8a2e7b\")>,\n",
       " <selenium.webdriver.remote.webelement.WebElement (session=\"b0f609b8ce2f60a248aa4f0d6c1297fb\", element=\"e1e0c056-192a-4d2f-9a22-c80ccdfbbb6e\")>,\n",
       " <selenium.webdriver.remote.webelement.WebElement (session=\"b0f609b8ce2f60a248aa4f0d6c1297fb\", element=\"16ffe6ad-d359-41f7-9718-eb54cbd85fb1\")>,\n",
       " <selenium.webdriver.remote.webelement.WebElement (session=\"b0f609b8ce2f60a248aa4f0d6c1297fb\", element=\"6a0512da-4bd1-4080-90d1-33f2772bacc3\")>]"
      ]
     },
     "execution_count": 99,
     "metadata": {},
     "output_type": "execute_result"
    }
   ],
   "source": [
    "loss_table"
   ]
  },
  {
   "cell_type": "code",
   "execution_count": 1,
   "metadata": {},
   "outputs": [],
   "source": [
    "import snscrape.modules.twitter as sntwitter\n",
    "import pandas as pd\n",
    "\n",
    "query = \"Davangere Sugar Company\"\n",
    "tweets = []\n",
    "limit = 5000"
   ]
  },
  {
   "cell_type": "code",
   "execution_count": 2,
   "metadata": {},
   "outputs": [
    {
     "name": "stderr",
     "output_type": "stream",
     "text": [
      "/tmp/ipykernel_35121/1092902452.py:8: FutureWarning: username is deprecated, use user.username instead\n",
      "  tweets.append([tweet.date, tweet.username, tweet.content])\n"
     ]
    }
   ],
   "source": [
    "for tweet in sntwitter.TwitterSearchScraper(query).get_items():\n",
    "    \n",
    "    # print(vars(tweet))\n",
    "    # break\n",
    "    if len(tweets) == limit:\n",
    "        break\n",
    "    else:\n",
    "        tweets.append([tweet.date, tweet.username, tweet.content])"
   ]
  },
  {
   "cell_type": "code",
   "execution_count": 3,
   "metadata": {},
   "outputs": [
    {
     "name": "stdout",
     "output_type": "stream",
     "text": [
      "                       Date             User  \\\n",
      "0 2022-06-14 09:17:08+00:00       tradingqna   \n",
      "1 2022-05-18 15:20:12+00:00   MarketUpdates6   \n",
      "2 2022-03-15 08:39:15+00:00         CBhoomia   \n",
      "3 2022-02-16 17:05:21+00:00      equitybulls   \n",
      "4 2021-11-12 10:37:02+00:00      MarketsCafe   \n",
      "5 2017-06-01 12:02:40+00:00       GauriMalur   \n",
      "6 2015-09-17 13:52:48+00:00  jgopikrishnan70   \n",
      "7 2015-07-01 11:33:00+00:00        domexanil   \n",
      "8 2012-11-27 02:21:24+00:00   Tv9kannadanews   \n",
      "\n",
      "                                               Tweet  \n",
      "0  The rights issue of Davangere Sugar Company op...  \n",
      "1  Davangere Sugar Company Ltd - 543267 - Board M...  \n",
      "2  👇🏾\\nVT-DVG AS 350 B3 HELICOPTER 4303 06.03. 20...  \n",
      "3  Davangere Sugar Company Q3FY22 profit higher a...  \n",
      "4  Davangere Sugar Company reports standalone net...  \n",
      "5  Local farmers say that Davangere Sugar Company...  \n",
      "6  @SouleFacts This helicopter belongs to Davange...  \n",
      "7  Davangere Sugar Company is planning maize star...  \n",
      "8  I uploaded a @YouTube video http://t.co/lmJb5E...  \n"
     ]
    }
   ],
   "source": [
    "df = pd.DataFrame(tweets, columns=['Date', 'User', 'Tweet'])\n",
    "print(df)"
   ]
  },
  {
   "cell_type": "code",
   "execution_count": null,
   "metadata": {},
   "outputs": [],
   "source": [
    "\n",
    "\n",
    "\n",
    "\n",
    "        \n",
    "\n"
   ]
  }
 ],
 "metadata": {
  "kernelspec": {
   "display_name": "Python 3.9.12 ('base')",
   "language": "python",
   "name": "python3"
  },
  "language_info": {
   "codemirror_mode": {
    "name": "ipython",
    "version": 3
   },
   "file_extension": ".py",
   "mimetype": "text/x-python",
   "name": "python",
   "nbconvert_exporter": "python",
   "pygments_lexer": "ipython3",
   "version": "3.9.12"
  },
  "orig_nbformat": 4,
  "vscode": {
   "interpreter": {
    "hash": "789fb34462f482e38fdbd0940fbb6e5b0fbd4a5284d680984504ae0721c812bc"
   }
  }
 },
 "nbformat": 4,
 "nbformat_minor": 2
}
